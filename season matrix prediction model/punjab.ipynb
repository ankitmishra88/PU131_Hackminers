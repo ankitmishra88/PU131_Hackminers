{
 "cells": [
  {
   "cell_type": "code",
   "execution_count": 2,
   "metadata": {},
   "outputs": [
    {
     "data": {
      "text/plain": [
       "1.52"
      ]
     },
     "execution_count": 2,
     "metadata": {},
     "output_type": "execute_result"
    }
   ],
   "source": [
    "import random\n",
    "\n",
    "round(random.uniform(1.5, 1.9),2)"
   ]
  },
  {
   "cell_type": "code",
   "execution_count": 52,
   "metadata": {},
   "outputs": [],
   "source": [
    "z=[ (i) for i in range(int(2010),int(2021))]\n"
   ]
  },
  {
   "cell_type": "code",
   "execution_count": 53,
   "metadata": {},
   "outputs": [
    {
     "data": {
      "text/plain": [
       "[2010, 2011, 2012, 2013, 2014, 2015, 2016, 2017, 2018, 2019, 2020]"
      ]
     },
     "execution_count": 53,
     "metadata": {},
     "output_type": "execute_result"
    }
   ],
   "source": [
    "z"
   ]
  },
  {
   "cell_type": "code",
   "execution_count": 40,
   "metadata": {},
   "outputs": [],
   "source": [
    "x=[round(random.uniform(-1,1)\n",
    "      ,2) for i in range(10)]\n"
   ]
  },
  {
   "cell_type": "code",
   "execution_count": 36,
   "metadata": {},
   "outputs": [
    {
     "data": {
      "text/plain": [
       "[-0.78, -0.55, -0.58, 0.77, 0.56, -0.24, 0.85, 0.95, 0.13, 0.6]"
      ]
     },
     "execution_count": 36,
     "metadata": {},
     "output_type": "execute_result"
    }
   ],
   "source": [
    "x"
   ]
  },
  {
   "cell_type": "code",
   "execution_count": 37,
   "metadata": {},
   "outputs": [],
   "source": [
    "import numpy as np\n",
    "import pandas as pd\n"
   ]
  },
  {
   "cell_type": "code",
   "execution_count": 91,
   "metadata": {},
   "outputs": [],
   "source": [
    "year=[2010, 2011, 2012, 2013, 2014, 2015, 2016, 2017, 2018, 2019]\n"
   ]
  },
  {
   "cell_type": "code",
   "execution_count": 69,
   "metadata": {},
   "outputs": [],
   "source": [
    "df= pd.read_csv(\"a.csv\",header=None)"
   ]
  },
  {
   "cell_type": "code",
   "execution_count": 72,
   "metadata": {},
   "outputs": [
    {
     "data": {
      "text/html": [
       "<div>\n",
       "<style scoped>\n",
       "    .dataframe tbody tr th:only-of-type {\n",
       "        vertical-align: middle;\n",
       "    }\n",
       "\n",
       "    .dataframe tbody tr th {\n",
       "        vertical-align: top;\n",
       "    }\n",
       "\n",
       "    .dataframe thead th {\n",
       "        text-align: right;\n",
       "    }\n",
       "</style>\n",
       "<table border=\"1\" class=\"dataframe\">\n",
       "  <thead>\n",
       "    <tr style=\"text-align: right;\">\n",
       "      <th></th>\n",
       "      <th>0</th>\n",
       "      <th>1</th>\n",
       "      <th>2</th>\n",
       "      <th>3</th>\n",
       "      <th>4</th>\n",
       "      <th>5</th>\n",
       "      <th>6</th>\n",
       "      <th>7</th>\n",
       "      <th>8</th>\n",
       "      <th>9</th>\n",
       "      <th>10</th>\n",
       "    </tr>\n",
       "  </thead>\n",
       "  <tbody>\n",
       "    <tr>\n",
       "      <th>0</th>\n",
       "      <td>january</td>\n",
       "      <td>4.19</td>\n",
       "      <td>3.38</td>\n",
       "      <td>3.69</td>\n",
       "      <td>4.92</td>\n",
       "      <td>3.66</td>\n",
       "      <td>4.23</td>\n",
       "      <td>3.71</td>\n",
       "      <td>3.11</td>\n",
       "      <td>4.56</td>\n",
       "      <td>4.92</td>\n",
       "    </tr>\n",
       "    <tr>\n",
       "      <th>1</th>\n",
       "      <td>february</td>\n",
       "      <td>0.53</td>\n",
       "      <td>-0.99</td>\n",
       "      <td>0.36</td>\n",
       "      <td>-0.43</td>\n",
       "      <td>0.26</td>\n",
       "      <td>-0.88</td>\n",
       "      <td>-0.86</td>\n",
       "      <td>0.48</td>\n",
       "      <td>0.92</td>\n",
       "      <td>-0.74</td>\n",
       "    </tr>\n",
       "    <tr>\n",
       "      <th>2</th>\n",
       "      <td>march</td>\n",
       "      <td>2.01</td>\n",
       "      <td>2.60</td>\n",
       "      <td>1.83</td>\n",
       "      <td>1.98</td>\n",
       "      <td>1.66</td>\n",
       "      <td>2.90</td>\n",
       "      <td>1.98</td>\n",
       "      <td>1.95</td>\n",
       "      <td>2.65</td>\n",
       "      <td>2.21</td>\n",
       "    </tr>\n",
       "    <tr>\n",
       "      <th>3</th>\n",
       "      <td>april</td>\n",
       "      <td>7.32</td>\n",
       "      <td>7.04</td>\n",
       "      <td>7.95</td>\n",
       "      <td>6.00</td>\n",
       "      <td>6.68</td>\n",
       "      <td>6.35</td>\n",
       "      <td>6.56</td>\n",
       "      <td>7.98</td>\n",
       "      <td>6.92</td>\n",
       "      <td>7.52</td>\n",
       "    </tr>\n",
       "    <tr>\n",
       "      <th>4</th>\n",
       "      <td>may</td>\n",
       "      <td>7.94</td>\n",
       "      <td>6.73</td>\n",
       "      <td>6.08</td>\n",
       "      <td>6.84</td>\n",
       "      <td>7.61</td>\n",
       "      <td>7.02</td>\n",
       "      <td>7.79</td>\n",
       "      <td>7.88</td>\n",
       "      <td>7.55</td>\n",
       "      <td>6.58</td>\n",
       "    </tr>\n",
       "    <tr>\n",
       "      <th>5</th>\n",
       "      <td>june</td>\n",
       "      <td>-0.65</td>\n",
       "      <td>0.07</td>\n",
       "      <td>-0.93</td>\n",
       "      <td>0.60</td>\n",
       "      <td>-0.19</td>\n",
       "      <td>-0.74</td>\n",
       "      <td>0.40</td>\n",
       "      <td>0.88</td>\n",
       "      <td>0.74</td>\n",
       "      <td>-0.92</td>\n",
       "    </tr>\n",
       "    <tr>\n",
       "      <th>6</th>\n",
       "      <td>july</td>\n",
       "      <td>-0.21</td>\n",
       "      <td>-0.44</td>\n",
       "      <td>-1.18</td>\n",
       "      <td>0.85</td>\n",
       "      <td>-0.02</td>\n",
       "      <td>0.21</td>\n",
       "      <td>0.89</td>\n",
       "      <td>-1.10</td>\n",
       "      <td>0.98</td>\n",
       "      <td>0.38</td>\n",
       "    </tr>\n",
       "    <tr>\n",
       "      <th>7</th>\n",
       "      <td>august</td>\n",
       "      <td>-0.78</td>\n",
       "      <td>-0.55</td>\n",
       "      <td>-0.58</td>\n",
       "      <td>0.77</td>\n",
       "      <td>0.56</td>\n",
       "      <td>-0.24</td>\n",
       "      <td>0.85</td>\n",
       "      <td>0.95</td>\n",
       "      <td>0.13</td>\n",
       "      <td>0.60</td>\n",
       "    </tr>\n",
       "    <tr>\n",
       "      <th>8</th>\n",
       "      <td>september</td>\n",
       "      <td>7.81</td>\n",
       "      <td>6.66</td>\n",
       "      <td>7.94</td>\n",
       "      <td>7.64</td>\n",
       "      <td>7.87</td>\n",
       "      <td>7.38</td>\n",
       "      <td>6.94</td>\n",
       "      <td>6.61</td>\n",
       "      <td>7.59</td>\n",
       "      <td>6.95</td>\n",
       "    </tr>\n",
       "    <tr>\n",
       "      <th>9</th>\n",
       "      <td>october</td>\n",
       "      <td>6.79</td>\n",
       "      <td>6.68</td>\n",
       "      <td>6.19</td>\n",
       "      <td>7.40</td>\n",
       "      <td>6.97</td>\n",
       "      <td>6.33</td>\n",
       "      <td>7.60</td>\n",
       "      <td>6.96</td>\n",
       "      <td>6.67</td>\n",
       "      <td>7.16</td>\n",
       "    </tr>\n",
       "    <tr>\n",
       "      <th>10</th>\n",
       "      <td>november</td>\n",
       "      <td>4.45</td>\n",
       "      <td>5.37</td>\n",
       "      <td>5.97</td>\n",
       "      <td>4.23</td>\n",
       "      <td>5.81</td>\n",
       "      <td>5.70</td>\n",
       "      <td>5.87</td>\n",
       "      <td>4.26</td>\n",
       "      <td>4.39</td>\n",
       "      <td>4.86</td>\n",
       "    </tr>\n",
       "    <tr>\n",
       "      <th>11</th>\n",
       "      <td>december</td>\n",
       "      <td>1.51</td>\n",
       "      <td>1.23</td>\n",
       "      <td>1.35</td>\n",
       "      <td>2.36</td>\n",
       "      <td>1.30</td>\n",
       "      <td>2.16</td>\n",
       "      <td>1.38</td>\n",
       "      <td>1.61</td>\n",
       "      <td>1.74</td>\n",
       "      <td>2.99</td>\n",
       "    </tr>\n",
       "  </tbody>\n",
       "</table>\n",
       "</div>"
      ],
      "text/plain": [
       "           0     1     2     3     4     5     6     7     8     9     10\n",
       "0     january  4.19  3.38  3.69  4.92  3.66  4.23  3.71  3.11  4.56  4.92\n",
       "1    february  0.53 -0.99  0.36 -0.43  0.26 -0.88 -0.86  0.48  0.92 -0.74\n",
       "2       march  2.01  2.60  1.83  1.98  1.66  2.90  1.98  1.95  2.65  2.21\n",
       "3       april  7.32  7.04  7.95  6.00  6.68  6.35  6.56  7.98  6.92  7.52\n",
       "4         may  7.94  6.73  6.08  6.84  7.61  7.02  7.79  7.88  7.55  6.58\n",
       "5        june -0.65  0.07 -0.93  0.60 -0.19 -0.74  0.40  0.88  0.74 -0.92\n",
       "6        july -0.21 -0.44 -1.18  0.85 -0.02  0.21  0.89 -1.10  0.98  0.38\n",
       "7      august -0.78 -0.55 -0.58  0.77  0.56 -0.24  0.85  0.95  0.13  0.60\n",
       "8   september  7.81  6.66  7.94  7.64  7.87  7.38  6.94  6.61  7.59  6.95\n",
       "9     october  6.79  6.68  6.19  7.40  6.97  6.33  7.60  6.96  6.67  7.16\n",
       "10   november  4.45  5.37  5.97  4.23  5.81  5.70  5.87  4.26  4.39  4.86\n",
       "11   december  1.51  1.23  1.35  2.36  1.30  2.16  1.38  1.61  1.74  2.99"
      ]
     },
     "execution_count": 72,
     "metadata": {},
     "output_type": "execute_result"
    }
   ],
   "source": [
    "df\n",
    "\n"
   ]
  },
  {
   "cell_type": "code",
   "execution_count": 59,
   "metadata": {},
   "outputs": [
    {
     "data": {
      "text/plain": [
       "0       january\n",
       "1      february\n",
       "2         march\n",
       "3         april\n",
       "4           may\n",
       "5          june\n",
       "6          july\n",
       "7        august\n",
       "8     september\n",
       "9       october\n",
       "10     november\n",
       "11     december\n",
       "Name: 0, dtype: object"
      ]
     },
     "execution_count": 59,
     "metadata": {},
     "output_type": "execute_result"
    }
   ],
   "source": [
    "df[0]"
   ]
  },
  {
   "cell_type": "code",
   "execution_count": 60,
   "metadata": {},
   "outputs": [
    {
     "ename": "SyntaxError",
     "evalue": "invalid syntax (<ipython-input-60-e156efb9be25>, line 1)",
     "output_type": "error",
     "traceback": [
      "\u001b[0;36m  File \u001b[0;32m\"<ipython-input-60-e156efb9be25>\"\u001b[0;36m, line \u001b[0;32m1\u001b[0m\n\u001b[0;31m    df[][0]\u001b[0m\n\u001b[0m       ^\u001b[0m\n\u001b[0;31mSyntaxError\u001b[0m\u001b[0;31m:\u001b[0m invalid syntax\n"
     ]
    }
   ],
   "source": [
    "df[][0]"
   ]
  },
  {
   "cell_type": "code",
   "execution_count": 149,
   "metadata": {},
   "outputs": [
    {
     "data": {
      "text/plain": [
       "1     7.81\n",
       "2     6.66\n",
       "3     7.94\n",
       "4     7.64\n",
       "5     7.87\n",
       "6     7.38\n",
       "7     6.94\n",
       "8     6.61\n",
       "9     7.59\n",
       "10     8.5\n",
       "Name: 8, dtype: object"
      ]
     },
     "execution_count": 149,
     "metadata": {},
     "output_type": "execute_result"
    }
   ],
   "source": [
    "vals=df.loc[8][1:]\n",
    "vals[10]=8.5\n",
    "vals\n"
   ]
  },
  {
   "cell_type": "code",
   "execution_count": 150,
   "metadata": {},
   "outputs": [],
   "source": [
    "vals=np.array(vals,dtype=float)\n"
   ]
  },
  {
   "cell_type": "code",
   "execution_count": 151,
   "metadata": {},
   "outputs": [
    {
     "data": {
      "text/plain": [
       "array([7.81, 6.66, 7.94, 7.64, 7.87, 7.38, 6.94, 6.61, 7.59, 8.5 ])"
      ]
     },
     "execution_count": 151,
     "metadata": {},
     "output_type": "execute_result"
    }
   ],
   "source": [
    "vals"
   ]
  },
  {
   "cell_type": "code",
   "execution_count": null,
   "metadata": {},
   "outputs": [],
   "source": []
  },
  {
   "cell_type": "code",
   "execution_count": 152,
   "metadata": {},
   "outputs": [],
   "source": [
    "year=np.array(year)"
   ]
  },
  {
   "cell_type": "code",
   "execution_count": 153,
   "metadata": {},
   "outputs": [
    {
     "data": {
      "text/plain": [
       "array([[2010],\n",
       "       [2011],\n",
       "       [2012],\n",
       "       [2013],\n",
       "       [2014],\n",
       "       [2015],\n",
       "       [2016],\n",
       "       [2017],\n",
       "       [2018],\n",
       "       [2019]])"
      ]
     },
     "execution_count": 153,
     "metadata": {},
     "output_type": "execute_result"
    }
   ],
   "source": [
    "year"
   ]
  },
  {
   "cell_type": "code",
   "execution_count": 154,
   "metadata": {},
   "outputs": [],
   "source": [
    "import matplotlib.pyplot as plt\n"
   ]
  },
  {
   "cell_type": "code",
   "execution_count": 155,
   "metadata": {},
   "outputs": [
    {
     "data": {
      "image/png": "[encoded data removed]",
      "text/plain": [
       "<Figure size 432x288 with 1 Axes>"
      ]
     },
     "metadata": {
      "needs_background": "light"
     },
     "output_type": "display_data"
    }
   ],
   "source": [
    "plt.scatter(year,vals)\n",
    "plt.ylabel('values')\n",
    "\n",
    "plt.show()"
   ]
  },
  {
   "cell_type": "code",
   "execution_count": 156,
   "metadata": {},
   "outputs": [],
   "source": [
    "from sklearn.linear_model import LinearRegression"
   ]
  },
  {
   "cell_type": "code",
   "execution_count": 157,
   "metadata": {},
   "outputs": [],
   "source": [
    "year=year.reshape(-1,1)"
   ]
  },
  {
   "cell_type": "code",
   "execution_count": 158,
   "metadata": {},
   "outputs": [
    {
     "data": {
      "text/plain": [
       "array([[2010],\n",
       "       [2011],\n",
       "       [2012],\n",
       "       [2013],\n",
       "       [2014],\n",
       "       [2015],\n",
       "       [2016],\n",
       "       [2017],\n",
       "       [2018],\n",
       "       [2019]])"
      ]
     },
     "execution_count": 158,
     "metadata": {},
     "output_type": "execute_result"
    }
   ],
   "source": [
    "year"
   ]
  },
  {
   "cell_type": "code",
   "execution_count": null,
   "metadata": {},
   "outputs": [],
   "source": []
  },
  {
   "cell_type": "code",
   "execution_count": 159,
   "metadata": {},
   "outputs": [],
   "source": [
    "reg = LinearRegression().fit(year, vals)"
   ]
  },
  {
   "cell_type": "code",
   "execution_count": 160,
   "metadata": {},
   "outputs": [
    {
     "data": {
      "text/plain": [
       "array([7.378     , 7.48345455, 7.61      ])"
      ]
     },
     "execution_count": 160,
     "metadata": {},
     "output_type": "execute_result"
    }
   ],
   "source": [
    "predict=reg.predict(np.array([[2009],[2014],[2020]]))\n",
    "predict"
   ]
  },
  {
   "cell_type": "code",
   "execution_count": 161,
   "metadata": {},
   "outputs": [
    {
     "data": {
      "text/plain": [
       "[<matplotlib.lines.Line2D at 0x7fbd30156390>]"
      ]
     },
     "execution_count": 161,
     "metadata": {},
     "output_type": "execute_result"
    },
    {
     "data": {
      "image/png": "[encoded data removed]",
      "text/plain": [
       "<Figure size 432x288 with 1 Axes>"
      ]
     },
     "metadata": {
      "needs_background": "light"
     },
     "output_type": "display_data"
    }
   ],
   "source": [
    "plt.scatter(year,vals)\n",
    "plt.plot(np.array([[2009],[2014],[2020]]),predict)"
   ]
  },
  {
   "cell_type": "code",
   "execution_count": null,
   "metadata": {},
   "outputs": [],
   "source": []
  }
 ],
 "metadata": {
  "kernelspec": {
   "display_name": "Python 3",
   "language": "python",
   "name": "python3"
  },
  "language_info": {
   "codemirror_mode": {
    "name": "ipython",
    "version": 3
   },
   "file_extension": ".py",
   "mimetype": "text/x-python",
   "name": "python",
   "nbconvert_exporter": "python",
   "pygments_lexer": "ipython3",
   "version": "3.6.9"
  }
 },
 "nbformat": 4,
 "nbformat_minor": 2
}
