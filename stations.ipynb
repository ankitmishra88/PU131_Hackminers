{
 "cells": [
  {
   "cell_type": "code",
   "execution_count": 16,
   "metadata": {},
   "outputs": [],
   "source": [
    "import pandas as pd\n",
    "import numpy as np"
   ]
  },
  {
   "cell_type": "code",
   "execution_count": 2,
   "metadata": {},
   "outputs": [
    {
     "data": {
      "text/plain": [
       "(1769420, 22)"
      ]
     },
     "execution_count": 2,
     "metadata": {},
     "output_type": "execute_result"
    }
   ],
   "source": [
    "data=pd.read_csv(r\"C:\\Users\\Mini\\AppData\\Local\\Programs\\Python\\Python38-32\\Card_Rate_history.csv\")\n",
    "data.shape"
   ]
  },
  {
   "cell_type": "code",
   "execution_count": 3,
   "metadata": {},
   "outputs": [
    {
     "data": {
      "text/html": [
       "<div>\n",
       "<style scoped>\n",
       "    .dataframe tbody tr th:only-of-type {\n",
       "        vertical-align: middle;\n",
       "    }\n",
       "\n",
       "    .dataframe tbody tr th {\n",
       "        vertical-align: top;\n",
       "    }\n",
       "\n",
       "    .dataframe thead th {\n",
       "        text-align: right;\n",
       "    }\n",
       "</style>\n",
       "<table border=\"1\" class=\"dataframe\">\n",
       "  <thead>\n",
       "    <tr style=\"text-align: right;\">\n",
       "      <th></th>\n",
       "      <th>MONTH_YEAR</th>\n",
       "      <th>FROM_STN</th>\n",
       "      <th>TPT_1</th>\n",
       "      <th>KMS_1</th>\n",
       "      <th>RATE_1</th>\n",
       "      <th>TPT_2</th>\n",
       "      <th>KMS_2</th>\n",
       "      <th>RATE_2</th>\n",
       "      <th>TPT_3</th>\n",
       "      <th>KMS_3</th>\n",
       "      <th>...</th>\n",
       "      <th>KMS_4</th>\n",
       "      <th>RATE_4</th>\n",
       "      <th>TPT_5</th>\n",
       "      <th>KMS_5</th>\n",
       "      <th>RATE_5</th>\n",
       "      <th>TO_STN</th>\n",
       "      <th>D_KMS</th>\n",
       "      <th>HANDLING</th>\n",
       "      <th>IND_COST</th>\n",
       "      <th>CARD_RATE</th>\n",
       "    </tr>\n",
       "  </thead>\n",
       "  <tbody>\n",
       "    <tr>\n",
       "      <th>0</th>\n",
       "      <td>32019</td>\n",
       "      <td>GTR</td>\n",
       "      <td>VNP</td>\n",
       "      <td>320.0</td>\n",
       "      <td>0.95</td>\n",
       "      <td>NaN</td>\n",
       "      <td>NaN</td>\n",
       "      <td>NaN</td>\n",
       "      <td>NaN</td>\n",
       "      <td>NaN</td>\n",
       "      <td>...</td>\n",
       "      <td>NaN</td>\n",
       "      <td>NaN</td>\n",
       "      <td>VNP</td>\n",
       "      <td>NaN</td>\n",
       "      <td>NaN</td>\n",
       "      <td>KRM</td>\n",
       "      <td>160</td>\n",
       "      <td>0.32</td>\n",
       "      <td>0.68</td>\n",
       "      <td>2.95</td>\n",
       "    </tr>\n",
       "    <tr>\n",
       "      <th>1</th>\n",
       "      <td>32019</td>\n",
       "      <td>GTR</td>\n",
       "      <td>VNP</td>\n",
       "      <td>320.0</td>\n",
       "      <td>0.95</td>\n",
       "      <td>NaN</td>\n",
       "      <td>NaN</td>\n",
       "      <td>NaN</td>\n",
       "      <td>NaN</td>\n",
       "      <td>NaN</td>\n",
       "      <td>...</td>\n",
       "      <td>NaN</td>\n",
       "      <td>NaN</td>\n",
       "      <td>ADG</td>\n",
       "      <td>600.0</td>\n",
       "      <td>2.13</td>\n",
       "      <td>BKT</td>\n",
       "      <td>135</td>\n",
       "      <td>0.30</td>\n",
       "      <td>1.25</td>\n",
       "      <td>5.43</td>\n",
       "    </tr>\n",
       "    <tr>\n",
       "      <th>2</th>\n",
       "      <td>32019</td>\n",
       "      <td>GTR</td>\n",
       "      <td>VNP</td>\n",
       "      <td>320.0</td>\n",
       "      <td>0.95</td>\n",
       "      <td>NaN</td>\n",
       "      <td>NaN</td>\n",
       "      <td>NaN</td>\n",
       "      <td>NaN</td>\n",
       "      <td>NaN</td>\n",
       "      <td>...</td>\n",
       "      <td>NaN</td>\n",
       "      <td>NaN</td>\n",
       "      <td>VDM</td>\n",
       "      <td>500.0</td>\n",
       "      <td>1.53</td>\n",
       "      <td>BTB</td>\n",
       "      <td>20</td>\n",
       "      <td>0.31</td>\n",
       "      <td>1.00</td>\n",
       "      <td>4.33</td>\n",
       "    </tr>\n",
       "    <tr>\n",
       "      <th>3</th>\n",
       "      <td>32019</td>\n",
       "      <td>GTR</td>\n",
       "      <td>VNP</td>\n",
       "      <td>320.0</td>\n",
       "      <td>0.95</td>\n",
       "      <td>NaN</td>\n",
       "      <td>NaN</td>\n",
       "      <td>NaN</td>\n",
       "      <td>NaN</td>\n",
       "      <td>NaN</td>\n",
       "      <td>...</td>\n",
       "      <td>NaN</td>\n",
       "      <td>NaN</td>\n",
       "      <td>NLM</td>\n",
       "      <td>565.0</td>\n",
       "      <td>2.30</td>\n",
       "      <td>TCD</td>\n",
       "      <td>130</td>\n",
       "      <td>0.29</td>\n",
       "      <td>1.36</td>\n",
       "      <td>5.90</td>\n",
       "    </tr>\n",
       "    <tr>\n",
       "      <th>4</th>\n",
       "      <td>32019</td>\n",
       "      <td>GTR</td>\n",
       "      <td>VNP</td>\n",
       "      <td>320.0</td>\n",
       "      <td>0.95</td>\n",
       "      <td>NaN</td>\n",
       "      <td>NaN</td>\n",
       "      <td>NaN</td>\n",
       "      <td>NaN</td>\n",
       "      <td>NaN</td>\n",
       "      <td>...</td>\n",
       "      <td>NaN</td>\n",
       "      <td>NaN</td>\n",
       "      <td>NLM</td>\n",
       "      <td>565.0</td>\n",
       "      <td>2.30</td>\n",
       "      <td>TTE</td>\n",
       "      <td>276</td>\n",
       "      <td>0.29</td>\n",
       "      <td>1.33</td>\n",
       "      <td>5.75</td>\n",
       "    </tr>\n",
       "  </tbody>\n",
       "</table>\n",
       "<p>5 rows × 22 columns</p>\n",
       "</div>"
      ],
      "text/plain": [
       "   MONTH_YEAR FROM_STN TPT_1  KMS_1  RATE_1 TPT_2  KMS_2  RATE_2 TPT_3  KMS_3  \\\n",
       "0       32019      GTR   VNP  320.0    0.95   NaN    NaN     NaN   NaN    NaN   \n",
       "1       32019      GTR   VNP  320.0    0.95   NaN    NaN     NaN   NaN    NaN   \n",
       "2       32019      GTR   VNP  320.0    0.95   NaN    NaN     NaN   NaN    NaN   \n",
       "3       32019      GTR   VNP  320.0    0.95   NaN    NaN     NaN   NaN    NaN   \n",
       "4       32019      GTR   VNP  320.0    0.95   NaN    NaN     NaN   NaN    NaN   \n",
       "\n",
       "   ...  KMS_4 RATE_4  TPT_5  KMS_5 RATE_5  TO_STN  D_KMS HANDLING  IND_COST  \\\n",
       "0  ...    NaN    NaN    VNP    NaN    NaN     KRM    160     0.32      0.68   \n",
       "1  ...    NaN    NaN    ADG  600.0   2.13     BKT    135     0.30      1.25   \n",
       "2  ...    NaN    NaN    VDM  500.0   1.53     BTB     20     0.31      1.00   \n",
       "3  ...    NaN    NaN    NLM  565.0   2.30     TCD    130     0.29      1.36   \n",
       "4  ...    NaN    NaN    NLM  565.0   2.30     TTE    276     0.29      1.33   \n",
       "\n",
       "   CARD_RATE  \n",
       "0       2.95  \n",
       "1       5.43  \n",
       "2       4.33  \n",
       "3       5.90  \n",
       "4       5.75  \n",
       "\n",
       "[5 rows x 22 columns]"
      ]
     },
     "execution_count": 3,
     "metadata": {},
     "output_type": "execute_result"
    }
   ],
   "source": [
    "data.head()"
   ]
  },
  {
   "cell_type": "code",
   "execution_count": 4,
   "metadata": {},
   "outputs": [],
   "source": [
    "li={\"from_stn\":data[\"FROM_STN\"], \"tpt_1\":data[\"TPT_1\"], \"tpt_2\":data[\"TPT_2\"], \"tpt_3\":data[\"TPT_3\"], \"tpt_4\":data[\"TPT_4\"], \"tpt_5\":data[\"TPT_5\"], \"to_stn\":data[\"TO_STN\"]}"
   ]
  },
  {
   "cell_type": "code",
   "execution_count": 5,
   "metadata": {},
   "outputs": [
    {
     "data": {
      "text/html": [
       "<div>\n",
       "<style scoped>\n",
       "    .dataframe tbody tr th:only-of-type {\n",
       "        vertical-align: middle;\n",
       "    }\n",
       "\n",
       "    .dataframe tbody tr th {\n",
       "        vertical-align: top;\n",
       "    }\n",
       "\n",
       "    .dataframe thead th {\n",
       "        text-align: right;\n",
       "    }\n",
       "</style>\n",
       "<table border=\"1\" class=\"dataframe\">\n",
       "  <thead>\n",
       "    <tr style=\"text-align: right;\">\n",
       "      <th></th>\n",
       "      <th>from_stn</th>\n",
       "      <th>tpt_1</th>\n",
       "      <th>tpt_2</th>\n",
       "      <th>tpt_3</th>\n",
       "      <th>tpt_4</th>\n",
       "      <th>tpt_5</th>\n",
       "      <th>to_stn</th>\n",
       "    </tr>\n",
       "  </thead>\n",
       "  <tbody>\n",
       "    <tr>\n",
       "      <th>0</th>\n",
       "      <td>GTR</td>\n",
       "      <td>VNP</td>\n",
       "      <td>NaN</td>\n",
       "      <td>NaN</td>\n",
       "      <td>NaN</td>\n",
       "      <td>VNP</td>\n",
       "      <td>KRM</td>\n",
       "    </tr>\n",
       "    <tr>\n",
       "      <th>1</th>\n",
       "      <td>GTR</td>\n",
       "      <td>VNP</td>\n",
       "      <td>NaN</td>\n",
       "      <td>NaN</td>\n",
       "      <td>NaN</td>\n",
       "      <td>ADG</td>\n",
       "      <td>BKT</td>\n",
       "    </tr>\n",
       "    <tr>\n",
       "      <th>2</th>\n",
       "      <td>GTR</td>\n",
       "      <td>VNP</td>\n",
       "      <td>NaN</td>\n",
       "      <td>NaN</td>\n",
       "      <td>NaN</td>\n",
       "      <td>VDM</td>\n",
       "      <td>BTB</td>\n",
       "    </tr>\n",
       "    <tr>\n",
       "      <th>3</th>\n",
       "      <td>GTR</td>\n",
       "      <td>VNP</td>\n",
       "      <td>NaN</td>\n",
       "      <td>NaN</td>\n",
       "      <td>NaN</td>\n",
       "      <td>NLM</td>\n",
       "      <td>TCD</td>\n",
       "    </tr>\n",
       "    <tr>\n",
       "      <th>4</th>\n",
       "      <td>GTR</td>\n",
       "      <td>VNP</td>\n",
       "      <td>NaN</td>\n",
       "      <td>NaN</td>\n",
       "      <td>NaN</td>\n",
       "      <td>NLM</td>\n",
       "      <td>TTE</td>\n",
       "    </tr>\n",
       "  </tbody>\n",
       "</table>\n",
       "</div>"
      ],
      "text/plain": [
       "  from_stn tpt_1 tpt_2 tpt_3 tpt_4 tpt_5 to_stn\n",
       "0      GTR   VNP   NaN   NaN   NaN   VNP    KRM\n",
       "1      GTR   VNP   NaN   NaN   NaN   ADG    BKT\n",
       "2      GTR   VNP   NaN   NaN   NaN   VDM    BTB\n",
       "3      GTR   VNP   NaN   NaN   NaN   NLM    TCD\n",
       "4      GTR   VNP   NaN   NaN   NaN   NLM    TTE"
      ]
     },
     "execution_count": 5,
     "metadata": {},
     "output_type": "execute_result"
    }
   ],
   "source": [
    "data=pd.DataFrame(li)\n",
    "data.head()"
   ]
  },
  {
   "cell_type": "code",
   "execution_count": 18,
   "metadata": {},
   "outputs": [],
   "source": [
    "df={\"from_stn\":data[\"from_stn\"], \"to_stn\":data[\"tpt_1\"]}\n",
    "df=pd.DataFrame(df)"
   ]
  },
  {
   "cell_type": "code",
   "execution_count": 23,
   "metadata": {},
   "outputs": [],
   "source": [
    "df=df.drop_duplicates()"
   ]
  },
  {
   "cell_type": "code",
   "execution_count": 29,
   "metadata": {},
   "outputs": [],
   "source": [
    "temp={\"from_stn\":data[\"tpt_1\"], \"to_stn\":data[\"tpt_2\"]}\n",
    "temp=pd.DataFrame(temp)\n",
    "df=df.append(temp)\n",
    "df=df.drop_duplicates()"
   ]
  },
  {
   "cell_type": "code",
   "execution_count": 31,
   "metadata": {},
   "outputs": [],
   "source": [
    "temp={\"from_stn\":data[\"tpt_2\"], \"to_stn\":data[\"tpt_3\"]}\n",
    "temp=pd.DataFrame(temp)\n",
    "df=df.append(temp)\n",
    "df=df.drop_duplicates()"
   ]
  },
  {
   "cell_type": "code",
   "execution_count": 33,
   "metadata": {},
   "outputs": [],
   "source": [
    "temp={\"from_stn\":data[\"tpt_3\"], \"to_stn\":data[\"tpt_4\"]}\n",
    "temp=pd.DataFrame(temp)\n",
    "df=df.append(temp)\n",
    "df=df.drop_duplicates()"
   ]
  },
  {
   "cell_type": "code",
   "execution_count": 35,
   "metadata": {},
   "outputs": [],
   "source": [
    "temp={\"from_stn\":data[\"tpt_4\"], \"to_stn\":data[\"tpt_5\"]}\n",
    "temp=pd.DataFrame(temp)\n",
    "df=df.append(temp)\n",
    "df=df.drop_duplicates()"
   ]
  },
  {
   "cell_type": "code",
   "execution_count": 37,
   "metadata": {},
   "outputs": [],
   "source": [
    "temp={\"from_stn\":data[\"tpt_5\"], \"to_stn\":data[\"to_stn\"]}\n",
    "temp=pd.DataFrame(temp)\n",
    "df=df.append(temp)\n",
    "df=df.drop_duplicates()"
   ]
  },
  {
   "cell_type": "code",
   "execution_count": 38,
   "metadata": {},
   "outputs": [
    {
     "data": {
      "text/plain": [
       "(1500, 2)"
      ]
     },
     "execution_count": 38,
     "metadata": {},
     "output_type": "execute_result"
    }
   ],
   "source": [
    "df.shape"
   ]
  },
  {
   "cell_type": "code",
   "execution_count": 43,
   "metadata": {},
   "outputs": [],
   "source": [
    "df=df.dropna()"
   ]
  },
  {
   "cell_type": "code",
   "execution_count": 53,
   "metadata": {},
   "outputs": [
    {
     "data": {
      "text/plain": [
       "(1431, 2)"
      ]
     },
     "execution_count": 53,
     "metadata": {},
     "output_type": "execute_result"
    }
   ],
   "source": [
    "df.shape"
   ]
  },
  {
   "cell_type": "code",
   "execution_count": 45,
   "metadata": {},
   "outputs": [
    {
     "data": {
      "text/plain": [
       "from_stn    0\n",
       "to_stn      0\n",
       "dtype: int64"
      ]
     },
     "execution_count": 45,
     "metadata": {},
     "output_type": "execute_result"
    }
   ],
   "source": [
    "df.isnull().sum()"
   ]
  },
  {
   "cell_type": "code",
   "execution_count": 51,
   "metadata": {},
   "outputs": [],
   "source": [
    "df.to_csv (r\"C:\\Users\\Mini\\AppData\\Local\\Programs\\Python\\Python38-32\\FROMTO_STN.csv\", index = False, header=True)"
   ]
  },
  {
   "cell_type": "code",
   "execution_count": null,
   "metadata": {},
   "outputs": [],
   "source": []
  }
 ],
 "metadata": {
  "kernelspec": {
   "display_name": "Python 3",
   "language": "python",
   "name": "python3"
  },
  "language_info": {
   "codemirror_mode": {
    "name": "ipython",
    "version": 3
   },
   "file_extension": ".py",
   "mimetype": "text/x-python",
   "name": "python",
   "nbconvert_exporter": "python",
   "pygments_lexer": "ipython3",
   "version": "3.8.3"
  }
 },
 "nbformat": 4,
 "nbformat_minor": 4
}
